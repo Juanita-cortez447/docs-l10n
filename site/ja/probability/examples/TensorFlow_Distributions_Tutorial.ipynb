{
  "cells": [
    {
      "cell_type": "markdown",
      "metadata": {
        "id": "Fqp93JixVuiN"
      },
      "source": [
        "##### Copyright 2018 The TensorFlow Probability Authors.\n",
        "\n",
        "Licensed under the Apache License, Version 2.0 (the \"License\");"
      ]
    },
    {
      "cell_type": "code",
      "execution_count": null,
      "metadata": {
        "cellView": "form",
        "id": "MeKZo1dnV1cE"
      },
      "outputs": [],
      "source": [
        "#@title Licensed under the Apache License, Version 2.0 (the \"License\"); { display-mode: \"form\" }\n",
        "# you may not use this file except in compliance with the License.\n",
        "# You may obtain a copy of the License at\n",
        "#\n",
        "# https://www.apache.org/licenses/LICENSE-2.0\n",
        "#\n",
        "# Unless required by applicable law or agreed to in writing, software\n",
        "# distributed under the License is distributed on an \"AS IS\" BASIS,\n",
        "# WITHOUT WARRANTIES OR CONDITIONS OF ANY KIND, either express or implied.\n",
        "# See the License for the specific language governing permissions and\n",
        "# limitations under the License."
      ]
    },
    {
      "cell_type": "markdown",
      "metadata": {
        "id": "DcriL2xPrG3_"
      },
      "source": [
        "# TensorFlow Distributions: 簡単な紹介\n",
        "\n",
        "<table class=\"tfo-notebook-buttons\" align=\"left\">\n",
        "  <td><a target=\"_blank\" href=\"https://www.tensorflow.org/probability/examples/TensorFlow_Distributions_Tutorial\" class=\"\"><img src=\"https://www.tensorflow.org/images/tf_logo_32px.png\">TensorFlow.org で表示</a></td>\n",
        "  <td><a target=\"_blank\" href=\"https://colab.research.google.com/github/tensorflow/docs-l10n/blob/master/site/ja/probability/examples/TensorFlow_Distributions_Tutorial.ipynb\" class=\"\"><img src=\"https://www.tensorflow.org/images/colab_logo_32px.png\">Google Colab で実行</a></td>\n",
        "  <td><a target=\"_blank\" href=\"https://github.com/tensorflow/docs-l10n/blob/master/site/ja/probability/examples/TensorFlow_Distributions_Tutorial.ipynb\" class=\"\"><img src=\"https://www.tensorflow.org/images/GitHub-Mark-32px.png\">GitHub でソースを表示</a></td>\n",
        "  <td><a href=\"https://storage.googleapis.com/tensorflow_docs/docs-l10n/site/ja/probability/examples/TensorFlow_Distributions_Tutorial.ipynb\"><img src=\"https://www.tensorflow.org/images/download_logo_32px.png\">ノートブックをダウンロード</a></td>\n",
        "</table>"
      ]
    },
    {
      "cell_type": "markdown",
      "metadata": {
        "id": "10i0wSQfJClb"
      },
      "source": [
        "このノートブックでは、TensorFlow Distributions（略して TFD）を探ります。このノートブックの目標は、TFD によるテンソル形状の処理を理解することを含み、学習曲線をやんわりと上昇させることであるため、抽象的な概念ではなく、まずは例を示すことから始めます。まず正式で簡単なやり方を紹介しようとしているため、最も一般的で抽象的な観点は最後まで説明しません。より抽象的なリファレンス形式のチュートリアルをご希望の方は、「[TensorFlow Distributions の形状を理解する](https://github.com/tensorflow/probability/blob/main/tensorflow_probability/examples/jupyter_notebooks/Understanding_TensorFlow_Distributions_Shapes.ipynb)」をご覧ください。ここに記載されている教材に関するご質問があれば、お気軽に[TensorFlow Probability メーリングリスト](https://groups.google.com/a/tensorflow.org/forum/#!forum/tfprobability)にお問い合わせください（またはご参加ください）。喜んでお手伝いいたします。"
      ]
    },
    {
      "cell_type": "markdown",
      "metadata": {
        "id": "kII2QSIEJn0X"
      },
      "source": [
        "始める前に、適切なライブラリをインポートする必要があります。総合ライブラリは `tensorflow_probability` です。慣例として、一般的に分布ライブラリを `tfd` と言及しています。\n",
        "\n",
        "[Tensorflow Eager](https://www.tensorflow.org/guide/eager) は、TensorFlow の命令型実行環境です。TensorFlow Eager では、すべての TF 演算は即時に評価され、結果を生成します。これは、TensorFlow の標準的な「graph」モードと対比するもので、graph モードの場合、TF 演算はグラフにノードを追加した後で、実行されます。このノートブックはすべて TF Eager モードを使用して記述されています。ただし、ここに紹介されている概念はどれも Eager に依存しているということではなく、TFP は graph モードでも使用可能です。"
      ]
    },
    {
      "cell_type": "code",
      "execution_count": null,
      "metadata": {
        "id": "J6t0EUihrG4B"
      },
      "outputs": [],
      "source": [
        "import collections\n",
        "\n",
        "import tensorflow as tf\n",
        "import tensorflow_probability as tfp\n",
        "tfd = tfp.distributions\n",
        "\n",
        "try:\n",
        "  tf.compat.v1.enable_eager_execution()\n",
        "except ValueError:\n",
        "  pass\n",
        "\n",
        "import matplotlib.pyplot as plt"
      ]
    },
    {
      "cell_type": "markdown",
      "metadata": {
        "id": "QD5lzFZerG4H"
      },
      "source": [
        "## 基本的な単変量分布\n"
      ]
    },
    {
      "cell_type": "markdown",
      "metadata": {
        "id": "Gos16Z82LSQQ"
      },
      "source": [
        "早速、正規分布を作成しましょう。"
      ]
    },
    {
      "cell_type": "code",
      "execution_count": 3,
      "metadata": {
        "id": "r3zofkWpLEvY"
      },
      "outputs": [
        {
          "data": {
            "text/plain": [
              "<tfp.distributions.Normal 'Normal' batch_shape=[] event_shape=[] dtype=float32>"
            ]
          },
          "execution_count": 3,
          "metadata": {
            "tags": []
          },
          "output_type": "execute_result"
        }
      ],
      "source": [
        "n = tfd.Normal(loc=0., scale=1.)\n",
        "n"
      ]
    },
    {
      "cell_type": "markdown",
      "metadata": {
        "id": "7rlXP5HaLVsc"
      },
      "source": [
        "この分布からサンプルを抽出できます。"
      ]
    },
    {
      "cell_type": "code",
      "execution_count": 4,
      "metadata": {
        "id": "14RRJONELX3O"
      },
      "outputs": [
        {
          "data": {
            "text/plain": [
              "<tf.Tensor: shape=(), dtype=float32, numpy=0.25322816>"
            ]
          },
          "execution_count": 4,
          "metadata": {
            "tags": []
          },
          "output_type": "execute_result"
        }
      ],
      "source": [
        "n.sample()"
      ]
    },
    {
      "cell_type": "markdown",
      "metadata": {
        "id": "NsDAltf5Le33"
      },
      "source": [
        "複数のサンプルを抽出できます。"
      ]
    },
    {
      "cell_type": "code",
      "execution_count": 5,
      "metadata": {
        "id": "v5jdTzbqLhrl"
      },
      "outputs": [
        {
          "data": {
            "text/plain": [
              "<tf.Tensor: shape=(3,), dtype=float32, numpy=array([-1.4658079, -0.5653636,  0.9314412], dtype=float32)>"
            ]
          },
          "execution_count": 5,
          "metadata": {
            "tags": []
          },
          "output_type": "execute_result"
        }
      ],
      "source": [
        "n.sample(3)"
      ]
    },
    {
      "cell_type": "markdown",
      "metadata": {
        "id": "4wX5cjUXLmrD"
      },
      "source": [
        "対数確率を評価できます。"
      ]
    },
    {
      "cell_type": "code",
      "execution_count": 6,
      "metadata": {
        "id": "hrCTzv2cLoLw"
      },
      "outputs": [
        {
          "data": {
            "text/plain": [
              "<tf.Tensor: shape=(), dtype=float32, numpy=-0.9189385>"
            ]
          },
          "execution_count": 6,
          "metadata": {
            "tags": []
          },
          "output_type": "execute_result"
        }
      ],
      "source": [
        "n.log_prob(0.)"
      ]
    },
    {
      "cell_type": "markdown",
      "metadata": {
        "id": "lHYIb0psLrzE"
      },
      "source": [
        "複数の対数確率を評価できます。"
      ]
    },
    {
      "cell_type": "code",
      "execution_count": 7,
      "metadata": {
        "id": "4dgwzazNLw6H"
      },
      "outputs": [
        {
          "data": {
            "text/plain": [
              "<tf.Tensor: shape=(3,), dtype=float32, numpy=array([-0.9189385, -2.9189386, -8.918939 ], dtype=float32)>"
            ]
          },
          "execution_count": 7,
          "metadata": {
            "tags": []
          },
          "output_type": "execute_result"
        }
      ],
      "source": [
        "n.log_prob([0., 2., 4.])"
      ]
    },
    {
      "cell_type": "markdown",
      "metadata": {
        "id": "mY5hHMClL-i1"
      },
      "source": [
        "多様な分布が用意されています。ベルヌーイを試してみましょう。"
      ]
    },
    {
      "cell_type": "code",
      "execution_count": 8,
      "metadata": {
        "id": "OIJErPQWMDfP"
      },
      "outputs": [
        {
          "data": {
            "text/plain": [
              "<tfp.distributions.Bernoulli 'Bernoulli' batch_shape=[] event_shape=[] dtype=int32>"
            ]
          },
          "execution_count": 8,
          "metadata": {
            "tags": []
          },
          "output_type": "execute_result"
        }
      ],
      "source": [
        "b = tfd.Bernoulli(probs=0.7)\n",
        "b"
      ]
    },
    {
      "cell_type": "code",
      "execution_count": 9,
      "metadata": {
        "id": "oqDcgYE8Mck2"
      },
      "outputs": [
        {
          "data": {
            "text/plain": [
              "<tf.Tensor: shape=(), dtype=int32, numpy=1>"
            ]
          },
          "execution_count": 9,
          "metadata": {
            "tags": []
          },
          "output_type": "execute_result"
        }
      ],
      "source": [
        "b.sample()"
      ]
    },
    {
      "cell_type": "code",
      "execution_count": 10,
      "metadata": {
        "id": "6HbbzPNTMgXh"
      },
      "outputs": [
        {
          "data": {
            "text/plain": [
              "<tf.Tensor: shape=(8,), dtype=int32, numpy=array([1, 0, 0, 0, 1, 0, 1, 0], dtype=int32)>"
            ]
          },
          "execution_count": 10,
          "metadata": {
            "tags": []
          },
          "output_type": "execute_result"
        }
      ],
      "source": [
        "b.sample(8)"
      ]
    },
    {
      "cell_type": "code",
      "execution_count": 11,
      "metadata": {
        "id": "LNy0tIKmMuL3"
      },
      "outputs": [
        {
          "data": {
            "text/plain": [
              "<tf.Tensor: shape=(), dtype=float32, numpy=-0.35667497>"
            ]
          },
          "execution_count": 11,
          "metadata": {
            "tags": []
          },
          "output_type": "execute_result"
        }
      ],
      "source": [
        "b.log_prob(1)"
      ]
    },
    {
      "cell_type": "code",
      "execution_count": 12,
      "metadata": {
        "id": "sghhA8onM0IN"
      },
      "outputs": [
        {
          "data": {
            "text/plain": [
              "<tf.Tensor: shape=(4,), dtype=float32, numpy=array([-0.35667497, -1.2039728 , -0.35667497, -1.2039728 ], dtype=float32)>"
            ]
          },
          "execution_count": 12,
          "metadata": {
            "tags": []
          },
          "output_type": "execute_result"
        }
      ],
      "source": [
        "b.log_prob([1, 0, 1, 0])"
      ]
    },
    {
      "cell_type": "markdown",
      "metadata": {
        "id": "ztM2d-N9nNX2"
      },
      "source": [
        "## 多変量分布"
      ]
    },
    {
      "cell_type": "markdown",
      "metadata": {
        "id": "MT2ZyGCoHMla"
      },
      "source": [
        "対角共分散で多変量正規分布を作成します。"
      ]
    },
    {
      "cell_type": "code",
      "execution_count": 13,
      "metadata": {
        "id": "MuFrhR4enQI5"
      },
      "outputs": [
        {
          "data": {
            "text/plain": [
              "<tfp.distributions.MultivariateNormalDiag 'MultivariateNormalDiag' batch_shape=[] event_shape=[2] dtype=float32>"
            ]
          },
          "execution_count": 13,
          "metadata": {
            "tags": []
          },
          "output_type": "execute_result"
        }
      ],
      "source": [
        "nd = tfd.MultivariateNormalDiag(loc=[0., 10.], scale_diag=[1., 4.])\n",
        "nd"
      ]
    },
    {
      "cell_type": "markdown",
      "metadata": {
        "id": "QUcnlm3vHFRj"
      },
      "source": [
        "これを先程作成した単変量正規分布と比較すると、何が異なっていますか？ "
      ]
    },
    {
      "cell_type": "code",
      "execution_count": 14,
      "metadata": {
        "id": "ggInhJ-LHVhR"
      },
      "outputs": [
        {
          "data": {
            "text/plain": [
              "<tfp.distributions.Normal 'Normal' batch_shape=[] event_shape=[] dtype=float32>"
            ]
          },
          "execution_count": 14,
          "metadata": {
            "tags": []
          },
          "output_type": "execute_result"
        }
      ],
      "source": [
        "tfd.Normal(loc=0., scale=1.)"
      ]
    },
    {
      "cell_type": "markdown",
      "metadata": {
        "id": "0ze8A19LnqO5"
      },
      "source": [
        "単変量正規分布には `()` の `event_shape` があり、それがスカラー分布であることを示しています。多変量正規分布には、`2` の `event_shape` があり、この分の基本的な [事象空間]（https://en.wikipedia.org/wiki/Event_(probability_theory)）が 2 次元であることを示しています。"
      ]
    },
    {
      "cell_type": "markdown",
      "metadata": {
        "id": "lJTTGCuuHpf5"
      },
      "source": [
        "サンプリングは、前と同じように行います。"
      ]
    },
    {
      "cell_type": "code",
      "execution_count": 15,
      "metadata": {
        "id": "xQzfj0vHnw-5"
      },
      "outputs": [
        {
          "data": {
            "text/plain": [
              "<tf.Tensor: shape=(2,), dtype=float32, numpy=array([-1.2489667, 15.025171 ], dtype=float32)>"
            ]
          },
          "execution_count": 15,
          "metadata": {
            "tags": []
          },
          "output_type": "execute_result"
        }
      ],
      "source": [
        "nd.sample()"
      ]
    },
    {
      "cell_type": "code",
      "execution_count": 16,
      "metadata": {
        "id": "dSyxxVmNnzT1"
      },
      "outputs": [
        {
          "data": {
            "text/plain": [
              "<tf.Tensor: shape=(5, 2), dtype=float32, numpy=\n",
              "array([[-1.5439653 ,  8.9968405 ],\n",
              "       [-0.38730723, 12.448896  ],\n",
              "       [-0.8697963 ,  9.330035  ],\n",
              "       [-1.2541095 , 10.268944  ],\n",
              "       [ 2.3475595 , 13.184147  ]], dtype=float32)>"
            ]
          },
          "execution_count": 16,
          "metadata": {
            "tags": []
          },
          "output_type": "execute_result"
        }
      ],
      "source": [
        "nd.sample(5)"
      ]
    },
    {
      "cell_type": "code",
      "execution_count": 17,
      "metadata": {
        "id": "SC0fmV3hn0Zp"
      },
      "outputs": [
        {
          "data": {
            "text/plain": [
              "<tf.Tensor: shape=(), dtype=float32, numpy=-3.2241714>"
            ]
          },
          "execution_count": 17,
          "metadata": {
            "tags": []
          },
          "output_type": "execute_result"
        }
      ],
      "source": [
        "nd.log_prob([0., 10])"
      ]
    },
    {
      "cell_type": "markdown",
      "metadata": {
        "id": "lmI_pjVJIT4I"
      },
      "source": [
        "多変量正規分布には一般的に、対角共分散がありません。TFD では、多変量正規分布を作成するために、以下で使用する全共分散指定などのさまざまな方法が用意されています。"
      ]
    },
    {
      "cell_type": "code",
      "execution_count": 18,
      "metadata": {
        "id": "qPEWjisBolk2"
      },
      "outputs": [
        {
          "data": {
            "image/png": "[encoded data removed]",
            "text/plain": [
              "<Figure size 600x400 with 1 Axes>"
            ]
          },
          "metadata": {
            "tags": []
          },
          "output_type": "display_data"
        }
      ],
      "source": [
        "nd = tfd.MultivariateNormalFullCovariance(\n",
        "    loc = [0., 5], covariance_matrix = [[1., .7], [.7, 1.]])\n",
        "data = nd.sample(200)\n",
        "plt.scatter(data[:, 0], data[:, 1], color='blue', alpha=0.4)\n",
        "plt.axis([-5, 5, 0, 10])\n",
        "plt.title(\"Data set\")\n",
        "plt.show()"
      ]
    },
    {
      "cell_type": "markdown",
      "metadata": {
        "id": "57lLzC7MQV-9"
      },
      "source": [
        "## 複数の分布"
      ]
    },
    {
      "cell_type": "markdown",
      "metadata": {
        "id": "aRYY7-KvQupB"
      },
      "source": [
        "最初のベルヌーイ分布は、公正な 1 つのコイン投げを表しましたが、1 つの `Distribution` オブジェクトで、それぞれが独自のパラメータを持つ独立したベルヌーイ分布のバッチを作成することもできます。"
      ]
    },
    {
      "cell_type": "code",
      "execution_count": 19,
      "metadata": {
        "id": "as9fo-XtRAFo"
      },
      "outputs": [
        {
          "data": {
            "text/plain": [
              "<tfp.distributions.Bernoulli 'Bernoulli' batch_shape=[3] event_shape=[] dtype=int32>"
            ]
          },
          "execution_count": 19,
          "metadata": {
            "tags": []
          },
          "output_type": "execute_result"
        }
      ],
      "source": [
        "b3 = tfd.Bernoulli(probs=[.3, .5, .7])\n",
        "b3"
      ]
    },
    {
      "cell_type": "markdown",
      "metadata": {
        "id": "x_7t57XzRGVD"
      },
      "source": [
        "これが意味するところを明確にしておくことが重要です。上記の呼び出しでは、3 つの独立したベルヌーイ分布が定義されいますが、偶然にもこれらは同じ Python `Distribution` オブジェクトに含まれています。`batch_shape` が `(3,)` として、バッチに 3 つの分布があることを示し、`event_shape` が `()` として、個別の分布に単変量の事象空間があることを示していることに注意してください。\n",
        "\n",
        "`sample` を呼び出すと、3 つすべての分布からサンプルが取得されます。"
      ]
    },
    {
      "cell_type": "code",
      "execution_count": 20,
      "metadata": {
        "id": "bQQJ_N7XRkuh"
      },
      "outputs": [
        {
          "data": {
            "text/plain": [
              "<tf.Tensor: shape=(3,), dtype=int32, numpy=array([0, 1, 1], dtype=int32)>"
            ]
          },
          "execution_count": 20,
          "metadata": {
            "tags": []
          },
          "output_type": "execute_result"
        }
      ],
      "source": [
        "b3.sample()"
      ]
    },
    {
      "cell_type": "code",
      "execution_count": 21,
      "metadata": {
        "id": "aM6JOl3HSQb3"
      },
      "outputs": [
        {
          "data": {
            "text/plain": [
              "<tf.Tensor: shape=(6, 3), dtype=int32, numpy=\n",
              "array([[1, 0, 1],\n",
              "       [0, 1, 1],\n",
              "       [0, 0, 1],\n",
              "       [0, 0, 1],\n",
              "       [0, 0, 1],\n",
              "       [0, 1, 0]], dtype=int32)>"
            ]
          },
          "execution_count": 21,
          "metadata": {
            "tags": []
          },
          "output_type": "execute_result"
        }
      ],
      "source": [
        "b3.sample(6)"
      ]
    },
    {
      "cell_type": "markdown",
      "metadata": {
        "id": "7NRbaUyLR2yf"
      },
      "source": [
        "`prob` を呼び出すと（これには `log_prob` と同じ形状セマンティクスがあります。明確にするために、これらの小さなベルヌーイの例では `prob` を使用しますが、通常アプリケーションでは、`log_prob` が好まれています）、それをベクトルに渡して、その値を出すコインの確率を評価できます。"
      ]
    },
    {
      "cell_type": "code",
      "execution_count": 22,
      "metadata": {
        "id": "UKRV_z47NUV9"
      },
      "outputs": [
        {
          "data": {
            "text/plain": [
              "<tf.Tensor: shape=(3,), dtype=float32, numpy=array([0.29999998, 0.5       , 0.29999998], dtype=float32)>"
            ]
          },
          "execution_count": 22,
          "metadata": {
            "tags": []
          },
          "output_type": "execute_result"
        }
      ],
      "source": [
        "b3.prob([1, 1, 0])"
      ]
    },
    {
      "cell_type": "markdown",
      "metadata": {
        "id": "Y3MexqrtREPP"
      },
      "source": [
        "API にはなぜバッチ形状が含まれているのでしょうか。セマンティクスの観点では、分布のリストを作成して `for` ループ（少なくとも Eager モードの場合。TF graph モードの場合は、`tf.while` ループが必要です）でイテレートすることで、同じ計算を実行できるでしょう。ところが、ハードウェアアクセラレータを使用して高速計算を実行できるには、同じようにパラメータ化された分布の（潜在的に大きな）セットがあるのが極めて一般的であり、ベクトル化された計算を可能な限り使用することが重要です。"
      ]
    },
    {
      "cell_type": "markdown",
      "metadata": {
        "id": "t52ptQXvUO07"
      },
      "source": [
        "## Independent を使用して、バッチを事象に集計する"
      ]
    },
    {
      "cell_type": "markdown",
      "metadata": {
        "id": "oN3mut1NTOXX"
      },
      "source": [
        "前のセクションでは、`b3` という、3 つのコイン投げを表す単一の `Distribution` オブジェクトを作成しました。ベクトル $v$ に `b3.prob` を呼び出すと、$i$ 回目のエントリが、$i$ 個目のコインの値が $v[i]$ になるという確率でした。\n",
        "\n",
        "代わりに、根底にある同じ族の独立した確率変数に対して「同時」分布を指定するとしましょう。これは、数学的に異なるオブジェクトで、この分布の場合、ベクトル $v$ の`prob` は、全セットのコインがベクトル $v$ に一致する確率を表す 1 つの値を返します。\n",
        "\n",
        "どのようにして行うのでしょうか。`Independent` という「高次」分布を使用します。これは、1 つの分布を取得し、バッチ形状がイベント形状に移動した新しい分布を生成します。"
      ]
    },
    {
      "cell_type": "code",
      "execution_count": 23,
      "metadata": {
        "id": "V_DcGAG2Tqxj"
      },
      "outputs": [
        {
          "data": {
            "text/plain": [
              "<tfp.distributions.Independent 'IndependentBernoulli' batch_shape=[] event_shape=[3] dtype=int32>"
            ]
          },
          "execution_count": 23,
          "metadata": {
            "tags": []
          },
          "output_type": "execute_result"
        }
      ],
      "source": [
        "b3_joint = tfd.Independent(b3, reinterpreted_batch_ndims=1)\n",
        "b3_joint"
      ]
    },
    {
      "cell_type": "markdown",
      "metadata": {
        "id": "Zkv5TRVFVLUo"
      },
      "source": [
        "この形状を、元の `b3` の形状に比較します。"
      ]
    },
    {
      "cell_type": "code",
      "execution_count": 24,
      "metadata": {
        "id": "5bBsLX-6VT36"
      },
      "outputs": [
        {
          "data": {
            "text/plain": [
              "<tfp.distributions.Bernoulli 'Bernoulli' batch_shape=[3] event_shape=[] dtype=int32>"
            ]
          },
          "execution_count": 24,
          "metadata": {
            "tags": []
          },
          "output_type": "execute_result"
        }
      ],
      "source": [
        "b3"
      ]
    },
    {
      "cell_type": "markdown",
      "metadata": {
        "id": "0uveNoPNVVYy"
      },
      "source": [
        "約束したとおり、`Independent` がバッチ形状をイベント形状に移動したのがわかります。`b3_joint` は 3 次元の事象空間（`event_shape = (3,)`）に対する単一の分布（`batch_shape = ()`）です。\n",
        "\n",
        "セマンティクスを確認しましょう。"
      ]
    },
    {
      "cell_type": "code",
      "execution_count": 25,
      "metadata": {
        "id": "eDsO2gLcVlY9"
      },
      "outputs": [
        {
          "data": {
            "text/plain": [
              "<tf.Tensor: shape=(), dtype=float32, numpy=0.044999998>"
            ]
          },
          "execution_count": 25,
          "metadata": {
            "tags": []
          },
          "output_type": "execute_result"
        }
      ],
      "source": [
        "b3_joint.prob([1, 1, 0])"
      ]
    },
    {
      "cell_type": "markdown",
      "metadata": {
        "id": "IktKInQ5WQJz"
      },
      "source": [
        "同じ結果が得られる別の方法として、`b3` を使用して確率を計算し、乗算（または対数確率が使用されるより一般的なケースでは加算）して手動で縮減することができます。"
      ]
    },
    {
      "cell_type": "code",
      "execution_count": 26,
      "metadata": {
        "id": "rRIVEchSV-RZ"
      },
      "outputs": [
        {
          "data": {
            "text/plain": [
              "<tf.Tensor: shape=(), dtype=float32, numpy=0.044999994>"
            ]
          },
          "execution_count": 26,
          "metadata": {
            "tags": []
          },
          "output_type": "execute_result"
        }
      ],
      "source": [
        "tf.reduce_prod(b3.prob([1, 1, 0]))"
      ]
    },
    {
      "cell_type": "markdown",
      "metadata": {
        "id": "ikayH3d2Wcf-"
      },
      "source": [
        "`Indpendent` を使うと、ユーザーはより明示的に希望する概念を表現することができます。必ずしも必要ではありませんが、非常に便利であると考えています。"
      ]
    },
    {
      "cell_type": "markdown",
      "metadata": {
        "id": "wVivnv1qWi9f"
      },
      "source": [
        "豆知識:\n",
        "\n",
        "- `b3.sample` と `b3_joint.sample` の概念的な実装は異なりますが、出力の見分けがつきません。独立した分布のバッチと、`Independent` を使用してバッチから作成された単一の分布の違いは、サンプリング中ではなく、確率を計算中に現れます。\n",
        "- `MultivariateNormalDiag` はスカラー `Normal` と `Independent` 分布を使って自明的に実装されている可能性があります（実際にはこのように実装されていなくても、その可能性はあります）。\n"
      ]
    },
    {
      "cell_type": "markdown",
      "metadata": {
        "id": "INu1viAVXz93"
      },
      "source": [
        "## 多変量分布のバッチ"
      ]
    },
    {
      "cell_type": "markdown",
      "metadata": {
        "id": "G_cEhLU-Tjhm"
      },
      "source": [
        "3 つの全共分散と 2 次元の多変量正規分布のバッチを作成しましょう。 "
      ]
    },
    {
      "cell_type": "code",
      "execution_count": 27,
      "metadata": {
        "id": "mtxwqizfTwKi"
      },
      "outputs": [
        {
          "data": {
            "text/plain": [
              "<tfp.distributions.MultivariateNormalFullCovariance 'MultivariateNormalFullCovariance' batch_shape=[3] event_shape=[2] dtype=float32>"
            ]
          },
          "execution_count": 27,
          "metadata": {
            "tags": []
          },
          "output_type": "execute_result"
        }
      ],
      "source": [
        "nd_batch = tfd.MultivariateNormalFullCovariance(\n",
        "    loc = [[0., 0.], [1., 1.], [2., 2.]],\n",
        "    covariance_matrix = [[[1., .1], [.1, 1.]], \n",
        "                         [[1., .3], [.3, 1.]],\n",
        "                         [[1., .5], [.5, 1.]]])\n",
        "nd_batch"
      ]
    },
    {
      "cell_type": "markdown",
      "metadata": {
        "id": "osDjz1vXUVkr"
      },
      "source": [
        "`batch_shape = (3,)` であるため、3 つの独立した多変量正規分布があり、`event_shape =  (2,)`、つまり各多変量正規分布が 2 次元であることがわかります。この例では、各分布には独立した要素はありません。\n",
        "\n",
        "サンプリング作業"
      ]
    },
    {
      "cell_type": "code",
      "execution_count": 28,
      "metadata": {
        "id": "82u32RUpYKeK"
      },
      "outputs": [
        {
          "data": {
            "text/plain": [
              "<tf.Tensor: shape=(4, 3, 2), dtype=float32, numpy=\n",
              "array([[[ 0.7367498 ,  2.730996  ],\n",
              "        [-0.74080074, -0.36466932],\n",
              "        [ 0.6516018 ,  0.9391426 ]],\n",
              "\n",
              "       [[ 1.038303  ,  0.12231752],\n",
              "        [-0.94788766, -1.204232  ],\n",
              "        [ 4.059758  ,  3.035752  ]],\n",
              "\n",
              "       [[ 0.56903946, -0.06875849],\n",
              "        [-0.35127294,  0.5311631 ],\n",
              "        [ 3.4635801 ,  4.565582  ]],\n",
              "\n",
              "       [[-0.15989424, -0.25715637],\n",
              "        [ 0.87479895,  0.97391707],\n",
              "        [ 0.5211419 ,  2.32108   ]]], dtype=float32)>"
            ]
          },
          "execution_count": 28,
          "metadata": {
            "tags": []
          },
          "output_type": "execute_result"
        }
      ],
      "source": [
        "nd_batch.sample(4)"
      ]
    },
    {
      "cell_type": "markdown",
      "metadata": {
        "id": "2I-cYckNYTmf"
      },
      "source": [
        "`batch_shape = (3,)` および `event_shape = (2,)` であるため、形状 `(3, 2)` のテンソルを `log_prob` に渡します。"
      ]
    },
    {
      "cell_type": "code",
      "execution_count": 29,
      "metadata": {
        "id": "-7p02_66YRpX"
      },
      "outputs": [
        {
          "data": {
            "text/plain": [
              "<tf.Tensor: shape=(3,), dtype=float32, numpy=array([-1.8328519, -1.7907217, -1.694036 ], dtype=float32)>"
            ]
          },
          "execution_count": 29,
          "metadata": {
            "tags": []
          },
          "output_type": "execute_result"
        }
      ],
      "source": [
        "nd_batch.log_prob([[0., 0.], [1., 1.], [2., 2.]])"
      ]
    },
    {
      "cell_type": "markdown",
      "metadata": {
        "id": "72uiME85SmEH"
      },
      "source": [
        "## ブロードキャスト、なぜこれがわかりにくいのか"
      ]
    },
    {
      "cell_type": "markdown",
      "metadata": {
        "id": "3aWnXjyYZYtp"
      },
      "source": [
        "これまで行ってきたことをまとめると、各分布にはバッチ形状 `B` とイベント形状 `E` があります。`BE` をイベント形状の連結としましょう。\n",
        "\n",
        "- 単変量スカラー分布 `n` と `b` については、`BE = ()` となります。\n",
        "- 2 次元多変量正規分布 `nd` であれば、`BE = (2)` となります。\n",
        "- `b3` と `b3_joint` の両方であれば、`BE = (3)` となります。\n",
        "- 多変量正規分布のバッチ `ndb` であれば、`BE = (3, 2)` となります。\n",
        "\n",
        "これまで使用してきた「評価ルール」は次のとおりです。\n",
        "\n",
        "- 引数なしのサンプルは、形状 `BE` のテンソルを返します。スカラー n でサンプリングすると、「n × `BE`」テンソルを返します。\n",
        "- `prob` と `log_prob` は形状 `BE` のテンソルを取得し、形状 `B` の結果を返します。\n",
        "\n",
        "`prob` と `log_prob` の実際の「評価ルール」は、潜在的なパワーとスピードだけでなく、複雑さと課題も提供するという点で、より複雑です。実際のルールは（基本的に）<strong data-md-type=\"double_emphasis\">`log_prob` の引数は、<code data-md-type=\"codespan\">BE</code> に対して<a href=\"https://docs.scipy.org/doc/numpy/user/basics.broadcasting.html\" data-md-type=\"link\">ブロードキャスト可能</a>である<em data-md-type=\"emphasis\">必要があります</em>。すべての「追加の」次元は、出力に維持されます</strong>。 "
      ]
    },
    {
      "cell_type": "markdown",
      "metadata": {
        "id": "iwv81UjpmlkX"
      },
      "source": [
        "その影響を調べてみましょう。単変量正規分布 `n` の場合は `BE = ()` であるため、`log_prob` はスカラーを期待します。`log_prob` に空以外の形状のテンソルを渡すと、それらは、出力にバッチ次元として現れます。"
      ]
    },
    {
      "cell_type": "code",
      "execution_count": 30,
      "metadata": {
        "id": "xRMkZd2cnqnG"
      },
      "outputs": [
        {
          "data": {
            "text/plain": [
              "<tfp.distributions.Normal 'Normal' batch_shape=[] event_shape=[] dtype=float32>"
            ]
          },
          "execution_count": 30,
          "metadata": {
            "tags": []
          },
          "output_type": "execute_result"
        }
      ],
      "source": [
        "n = tfd.Normal(loc=0., scale=1.)\n",
        "n"
      ]
    },
    {
      "cell_type": "code",
      "execution_count": 31,
      "metadata": {
        "id": "mci1cs1NnLDb"
      },
      "outputs": [
        {
          "data": {
            "text/plain": [
              "<tf.Tensor: shape=(), dtype=float32, numpy=-0.9189385>"
            ]
          },
          "execution_count": 31,
          "metadata": {
            "tags": []
          },
          "output_type": "execute_result"
        }
      ],
      "source": [
        "n.log_prob(0.)"
      ]
    },
    {
      "cell_type": "code",
      "execution_count": 32,
      "metadata": {
        "id": "MQW1XSB1nRlH"
      },
      "outputs": [
        {
          "data": {
            "text/plain": [
              "<tf.Tensor: shape=(1,), dtype=float32, numpy=array([-0.9189385], dtype=float32)>"
            ]
          },
          "execution_count": 32,
          "metadata": {
            "tags": []
          },
          "output_type": "execute_result"
        }
      ],
      "source": [
        "n.log_prob([0.])"
      ]
    },
    {
      "cell_type": "code",
      "execution_count": 33,
      "metadata": {
        "id": "z-6d3PtTnT1W"
      },
      "outputs": [
        {
          "data": {
            "text/plain": [
              "<tf.Tensor: shape=(2, 2), dtype=float32, numpy=\n",
              "array([[-0.9189385, -1.4189385],\n",
              "       [-1.4189385, -2.9189386]], dtype=float32)>"
            ]
          },
          "execution_count": 33,
          "metadata": {
            "tags": []
          },
          "output_type": "execute_result"
        }
      ],
      "source": [
        "n.log_prob([[0., 1.], [-1., 2.]])"
      ]
    },
    {
      "cell_type": "markdown",
      "metadata": {
        "id": "6BkE19lEh9XY"
      },
      "source": [
        "2 次元多変量正規分布 `nd` を見てみましょう（説明の目的で、パラメータは変更されています）。"
      ]
    },
    {
      "cell_type": "code",
      "execution_count": 34,
      "metadata": {
        "id": "Y1D3zg9kn8HJ"
      },
      "outputs": [
        {
          "data": {
            "text/plain": [
              "<tfp.distributions.MultivariateNormalDiag 'MultivariateNormalDiag' batch_shape=[] event_shape=[2] dtype=float32>"
            ]
          },
          "execution_count": 34,
          "metadata": {
            "tags": []
          },
          "output_type": "execute_result"
        }
      ],
      "source": [
        "nd = tfd.MultivariateNormalDiag(loc=[0., 1.], scale_diag=[1., 1.])\n",
        "nd"
      ]
    },
    {
      "cell_type": "markdown",
      "metadata": {
        "id": "SyZS-on4oCR4"
      },
      "source": [
        "`log_prob` は形状 `(2,)` の引数を「期待します」が、この形状に対してブロードキャストするすべての引数を受け入れます。 "
      ]
    },
    {
      "cell_type": "code",
      "execution_count": 35,
      "metadata": {
        "id": "RHyn5rV7oMzq"
      },
      "outputs": [
        {
          "data": {
            "text/plain": [
              "<tf.Tensor: shape=(), dtype=float32, numpy=-2.337877>"
            ]
          },
          "execution_count": 35,
          "metadata": {
            "tags": []
          },
          "output_type": "execute_result"
        }
      ],
      "source": [
        "nd.log_prob([0., 0.])"
      ]
    },
    {
      "cell_type": "markdown",
      "metadata": {
        "id": "DTnAETFGo17O"
      },
      "source": [
        "しかし、「さらに多くの」例を渡して、一度にすべての `log_prob` を評価することができます。"
      ]
    },
    {
      "cell_type": "code",
      "execution_count": 36,
      "metadata": {
        "id": "-eSm6Hnlo1sn"
      },
      "outputs": [
        {
          "data": {
            "text/plain": [
              "<tf.Tensor: shape=(3,), dtype=float32, numpy=array([-2.337877 , -2.337877 , -4.3378773], dtype=float32)>"
            ]
          },
          "execution_count": 36,
          "metadata": {
            "tags": []
          },
          "output_type": "execute_result"
        }
      ],
      "source": [
        "nd.log_prob([[0., 0.],\n",
        "             [1., 1.],\n",
        "             [2., 2.]])"
      ]
    },
    {
      "cell_type": "markdown",
      "metadata": {
        "id": "dgxneFROpG7L"
      },
      "source": [
        "おそらくあまり魅力的ではありませんが、イベント次元でブロードキャストできます。"
      ]
    },
    {
      "cell_type": "code",
      "execution_count": 37,
      "metadata": {
        "id": "-YRxLZLcoW29"
      },
      "outputs": [
        {
          "data": {
            "text/plain": [
              "<tf.Tensor: shape=(), dtype=float32, numpy=-2.337877>"
            ]
          },
          "execution_count": 37,
          "metadata": {
            "tags": []
          },
          "output_type": "execute_result"
        }
      ],
      "source": [
        "nd.log_prob([0.])"
      ]
    },
    {
      "cell_type": "code",
      "execution_count": 38,
      "metadata": {
        "id": "Md6RkXrcpNiK"
      },
      "outputs": [
        {
          "data": {
            "text/plain": [
              "<tf.Tensor: shape=(3,), dtype=float32, numpy=array([-2.337877 , -2.337877 , -4.3378773], dtype=float32)>"
            ]
          },
          "execution_count": 38,
          "metadata": {
            "tags": []
          },
          "output_type": "execute_result"
        }
      ],
      "source": [
        "nd.log_prob([[0.], [1.], [2.]])"
      ]
    },
    {
      "cell_type": "markdown",
      "metadata": {
        "id": "266h1o2KoZZL"
      },
      "source": [
        "この方法でのブロードキャストは、「可能な時には必ずブロードキャストを有効にする」という設計の結果です。この使用方法にはさまざまな意見があり、今後のバージョンの TFP では取り除かれる可能性があります。\n",
        "\n",
        "では、3 つのコイン投げの例をもう一度見てみましょう。"
      ]
    },
    {
      "cell_type": "code",
      "execution_count": null,
      "metadata": {
        "id": "mKHtmSP6SnvY"
      },
      "outputs": [],
      "source": [
        "b3 = tfd.Bernoulli(probs=[.3, .5, .7])"
      ]
    },
    {
      "cell_type": "markdown",
      "metadata": {
        "id": "bGOJAgv_p059"
      },
      "source": [
        "ここでは、*すべて*のコインが表になるという確率を表すためにブロードキャストを使用するのは、非常に直感的です。"
      ]
    },
    {
      "cell_type": "code",
      "execution_count": 40,
      "metadata": {
        "id": "ZYC6J8-dp50r"
      },
      "outputs": [
        {
          "data": {
            "text/plain": [
              "<tf.Tensor: shape=(3,), dtype=float32, numpy=array([0.29999998, 0.5       , 0.7       ], dtype=float32)>"
            ]
          },
          "execution_count": 40,
          "metadata": {
            "tags": []
          },
          "output_type": "execute_result"
        }
      ],
      "source": [
        "b3.prob([1])"
      ]
    },
    {
      "cell_type": "markdown",
      "metadata": {
        "id": "5gxdAEjBiLiw"
      },
      "source": [
        "（これを、`b3` が紹介されたところで使用した `b3.prob([1., 1., 1.])` に比較してみましょう。）\n",
        "\n",
        "次に、各コインについて、コインが表になる確率*と*裏になる確率を知りたいとします。次のようにすることが想像できます。\n",
        "\n",
        "`b3.log_prob([0, 1])`\n",
        "\n",
        "残念ながら、これではエラーとなり、長く読みにくいスタックトレースが生成されてしまいます。`b3` には `BE = (3)` があるため、`b3.prob` を `(3,)` に対してブロードキャスト可能なものに渡す必要があります。`[0, 1]` の形状は `(2)` であるため、ブロードキャストせずにエラーを生成します。代わりに、次のようにする必要があります。"
      ]
    },
    {
      "cell_type": "code",
      "execution_count": 41,
      "metadata": {
        "id": "_ry9LMiIieUx"
      },
      "outputs": [
        {
          "data": {
            "text/plain": [
              "<tf.Tensor: shape=(2, 3), dtype=float32, numpy=\n",
              "array([[0.7, 0.5, 0.3],\n",
              "       [0.3, 0.5, 0.7]], dtype=float32)>"
            ]
          },
          "execution_count": 41,
          "metadata": {
            "tags": []
          },
          "output_type": "execute_result"
        }
      ],
      "source": [
        "b3.prob([[0], [1]])"
      ]
    },
    {
      "cell_type": "markdown",
      "metadata": {
        "id": "mxZ1WeK1qRcc"
      },
      "source": [
        "なぜでしょうか。`[[0], [1]]` の形状は `(2, 1)` であるため、形状 `(3)` にブロードキャストして、ブロードキャスト形状 `(2, 3)` を作ります。"
      ]
    },
    {
      "cell_type": "markdown",
      "metadata": {
        "id": "WJBxD-zOrLDQ"
      },
      "source": [
        "ブロードキャストは非常に強力です。使用されるメモリの量を桁違いに削減できる場合があり、ユーザーコードが短くなることがほとんどです。ただし、プログラミングには困難をきたす可能性があります。`log_prob` を呼び出してエラーが発生した場合、問題はほぼ必ずブロードキャストの失敗です。"
      ]
    },
    {
      "cell_type": "markdown",
      "metadata": {
        "id": "JpjjIGThrj8Q"
      },
      "source": [
        "## 今後の学習\n",
        "\n",
        "このチュートリアルでは、単純な導入を説明しました（説明できたと願っています）。今後の指針となるように、以下にいくつか示します。\n",
        "\n",
        "- `event_shape`、`batch_shape`、および `sample_shape` の階数は任意です（このチュートリアルでは、スカラーか階数 1 でした）。このため、パワーは高まりますが、プログラミングは困難になる可能性があります。ブロードキャストが伴う場合には特に、です。形状操作に関するその他の説明について、「[TensorFlow Distributions の形状を理解する](https://github.com/tensorflow/probability/blob/main/tensorflow_probability/examples/jupyter_notebooks/Understanding_TensorFlow_Distributions_Shapes.ipynb)」をご覧ください。\n",
        "- TFP には、`Bijectors` と言われる強力な抽象が含まれています。これは、`TransformedDistribution` とともに、既存の分布の可逆変換である新しい分布を簡単に作成するための柔軟で構成的な方法を提供します。これについては、近々チュートリアルを書くことにしますが、それまでは、[ドキュメント](https://www.tensorflow.org/probability/api_docs/python/tfp/distributions/TransformedDistribution)をご覧ください。\n"
      ]
    }
  ],
  "metadata": {
    "colab": {
      "collapsed_sections": [],
      "name": "TensorFlow_Distributions_Tutorial.ipynb",
      "toc_visible": true
    },
    "kernelspec": {
      "display_name": "Python 3",
      "name": "python3"
    }
  },
  "nbformat": 4,
  "nbformat_minor": 0
}
